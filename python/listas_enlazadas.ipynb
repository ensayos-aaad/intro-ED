{
 "cells": [
  {
   "attachments": {},
   "cell_type": "markdown",
   "metadata": {},
   "source": [
    "# Listas enlazadas"
   ]
  },
  {
   "attachments": {},
   "cell_type": "markdown",
   "metadata": {},
   "source": [
    "## Nodo"
   ]
  },
  {
   "attachments": {},
   "cell_type": "markdown",
   "metadata": {},
   "source": [
    "Para saber sobre assert consulte el siguiente link: https://ellibrodepython.com/assert-python"
   ]
  },
  {
   "cell_type": "code",
   "execution_count": 2,
   "metadata": {},
   "outputs": [],
   "source": [
    "class Node:\n",
    "    def __init__(self, value, next_node=None):\n",
    "        self.value = value\n",
    "        self.next_node = next_node\n",
    "        \n",
    "    def get_value(self):\n",
    "        return self.value\n",
    "    \n",
    "    def get_next_node(self):\n",
    "        return self.next_node\n",
    "    \n",
    "    def set_next_node(self, next_node):\n",
    "        self.next_node = next_node\n",
    "\n",
    "    def __repr__(self):\n",
    "        return str(self.value)"
   ]
  },
  {
   "cell_type": "code",
   "execution_count": 3,
   "metadata": {},
   "outputs": [
    {
     "name": "stdout",
     "output_type": "stream",
     "text": [
      "10 --> 20 --> 30 "
     ]
    }
   ],
   "source": [
    "# Test 1\n",
    "n = Node(10, Node(20, Node(30)))\n",
    "\n",
    "k = n\n",
    "print(k, end=' ')\n",
    "\n",
    "while (k.get_next_node() is not None):\n",
    "    print(\"--> %s\" % k.get_next_node(), end=' ')\n",
    "    k = k.get_next_node()\n"
   ]
  },
  {
   "cell_type": "code",
   "execution_count": 4,
   "metadata": {},
   "outputs": [
    {
     "name": "stdout",
     "output_type": "stream",
     "text": [
      "10 --> 20 --> 30 "
     ]
    }
   ],
   "source": [
    "# Test 2\n",
    "n1 = Node(10)\n",
    "n2 = Node(20)\n",
    "n3 = Node(30)\n",
    "\n",
    "n1.set_next_node(n2)\n",
    "n2.set_next_node(n3)\n",
    "\n",
    "k = n1\n",
    "print(k, end=' ')\n",
    "while (k.get_next_node() is not None):\n",
    "    print(f\"--> {k.get_next_node()}\", end=' ')\n",
    "    k = k.get_next_node()\n"
   ]
  },
  {
   "attachments": {},
   "cell_type": "markdown",
   "metadata": {},
   "source": [
    "## Lista enlazada"
   ]
  },
  {
   "cell_type": "code",
   "execution_count": 12,
   "metadata": {},
   "outputs": [],
   "source": [
    "class LinkedList:\n",
    "    def __init__(self, value=None):\n",
    "        self.head_node = Node(value)\n",
    "    \n",
    "    def get_head_node(self):\n",
    "        return self.head_node\n",
    "    \n",
    "    def insert_beginning(self, new_value):\n",
    "        new_node = Node(new_value)\n",
    "        new_node.set_next_node(self.head_node)\n",
    "        self.head_node = new_node\n",
    "\n",
    "    def stringify_list(self):\n",
    "        string_list = \"\"\n",
    "        current_node = self.head_node        \n",
    "        while current_node:\n",
    "            if current_node.get_value() is not None:\n",
    "                if current_node == self.head_node:\n",
    "                    string_list += str(current_node.get_value()) + \" \"                \n",
    "                else: \n",
    "                    string_list += \"--> \" + str(current_node.get_value()) + \" \"                \n",
    "            current_node = current_node.get_next_node()\n",
    "        return string_list\n",
    "    \n",
    "\n",
    "    def remove_node(self, value_to_remove):\n",
    "        current_node = self.head_node\n",
    "        if current_node.get_value() == value_to_remove:\n",
    "            self.head_node = current_node.get_next_node()\n",
    "        else:\n",
    "            while current_node:\n",
    "                next_node = current_node.get_next_node()\n",
    "                if next_node.get_value() == value_to_remove:\n",
    "                    current_node.set_next_node(next_node.get_next_node())\n",
    "                    current_node = None\n",
    "                else:\n",
    "                    current_node = next_node\n",
    "\n",
    "    # Swapping Elements in a Linked List\n",
    "    def swap_nodes(self, val1, val2):\n",
    "        print(f'Swapping {val1} with {val2}')\n",
    "        # Asume que los valores val1 y val2 se encuentran en la lista\n",
    "        node1 = self.head_node\n",
    "        node2 = self.head_node\n",
    "        node1_prev = None\n",
    "        node2_prev = None\n",
    "\n",
    "        # Edge Cases -> Caso 1: Ambos nodos son iguales\n",
    "        if val1 == val2:\n",
    "            print(\"Elements are the same - no swap needed\")\n",
    "            return\n",
    "\n",
    "        # node1 y node1_prev\n",
    "        while node1 is not None:\n",
    "            if node1.get_value() == val1:\n",
    "                break\n",
    "            node1_prev = node1\n",
    "            node1 = node1.get_next_node()       \n",
    "        # node2 y node2_prev\n",
    "        while node2 is not None:\n",
    "            if node2.get_value() == val2:\n",
    "                break\n",
    "            node2_prev = node2\n",
    "            node2 = node2.get_next_node()\n",
    "\n",
    "        # Edge Cases -> Caso 2: val1, val2 o ambos no estan en la lista\n",
    "        if(node1 is None or node2 is None):\n",
    "            print(\"Swap not possible - one or more element is not in the list\")\n",
    "            return\n",
    "\n",
    "        # Updating the Preceding Nodes’ Pointers\n",
    "        # node1_prev\n",
    "        if node1_prev is None:\n",
    "            self.head_node = node2\n",
    "        else:\n",
    "            node1_prev.set_next_node(node2)\n",
    "        # node2_prev\n",
    "        if node2_prev is None:\n",
    "            self.head_node = node1\n",
    "        else:\n",
    "            node2_prev.set_next_node(node1)\n",
    "\n",
    "        # Updating the Nodes’ Next Pointers\n",
    "        temp = node1.get_next_node()\n",
    "        node1.set_next_node(node2.get_next_node())\n",
    "        node2.get_next_node(temp)\n",
    "    \n",
    "    def __repr__(self):\n",
    "        return self.stringify_list()"
   ]
  },
  {
   "cell_type": "code",
   "execution_count": 98,
   "metadata": {},
   "outputs": [
    {
     "name": "stdout",
     "output_type": "stream",
     "text": [
      "4 \n",
      "4 \n",
      "9 --> 8 --> 6 --> 5 --> 4 \n",
      "H: 9\n",
      "-----\n",
      "8 --> 6 --> 5 --> 4 \n",
      "-----\n",
      "8 --> 6 --> 4 \n"
     ]
    }
   ],
   "source": [
    "# Test 1\n",
    "L1 = LinkedList(4)\n",
    "print(L1.stringify_list())\n",
    "print(L1)\n",
    "L1.insert_beginning(5)\n",
    "L1.insert_beginning(6)\n",
    "L1.insert_beginning(8)\n",
    "L1.insert_beginning(9)\n",
    "print(L1)\n",
    "print(\"H: \" + str(L1.get_head_node()))\n",
    "print(\"-----\")\n",
    "L1.remove_node(9)\n",
    "print(L1)\n",
    "print(\"-----\")\n",
    "L1.remove_node(5)\n",
    "print(L1)"
   ]
  },
  {
   "cell_type": "code",
   "execution_count": 7,
   "metadata": {},
   "outputs": [
    {
     "name": "stdout",
     "output_type": "stream",
     "text": [
      "1 --> 2 --> 4 \n",
      "1\n",
      "4\n",
      "1 --> 4 \n"
     ]
    }
   ],
   "source": [
    "# Test 2\n",
    "L = LinkedList(4)\n",
    "L.insert_beginning(2)\n",
    "L.insert_beginning(1) \n",
    "print(L.stringify_list())\n",
    "H = L.get_head_node()\n",
    "print(H.get_value())\n",
    "print(H.get_next_node().get_next_node().get_value())\n",
    "L.remove_node(2)\n",
    "print(L.stringify_list())"
   ]
  },
  {
   "cell_type": "code",
   "execution_count": 15,
   "metadata": {},
   "outputs": [
    {
     "name": "stdout",
     "output_type": "stream",
     "text": [
      "9 --> 8 --> 7 --> 6 --> 5 --> 4 --> 3 --> 2 --> 1 --> 0 \n",
      "Swapping 9 with 5\n"
     ]
    },
    {
     "ename": "TypeError",
     "evalue": "get_next_node() takes 1 positional argument but 2 were given",
     "output_type": "error",
     "traceback": [
      "\u001b[1;31m---------------------------------------------------------------------------\u001b[0m",
      "\u001b[1;31mTypeError\u001b[0m                                 Traceback (most recent call last)",
      "\u001b[1;32m~\\AppData\\Local\\Temp\\ipykernel_3220\\2880282263.py\u001b[0m in \u001b[0;36m<module>\u001b[1;34m\u001b[0m\n\u001b[0;32m      4\u001b[0m   \u001b[0mll\u001b[0m\u001b[1;33m.\u001b[0m\u001b[0minsert_beginning\u001b[0m\u001b[1;33m(\u001b[0m\u001b[0mi\u001b[0m\u001b[1;33m)\u001b[0m\u001b[1;33m\u001b[0m\u001b[1;33m\u001b[0m\u001b[0m\n\u001b[0;32m      5\u001b[0m \u001b[0mprint\u001b[0m\u001b[1;33m(\u001b[0m\u001b[0mll\u001b[0m\u001b[1;33m)\u001b[0m\u001b[1;33m\u001b[0m\u001b[1;33m\u001b[0m\u001b[0m\n\u001b[1;32m----> 6\u001b[1;33m \u001b[0mll\u001b[0m\u001b[1;33m.\u001b[0m\u001b[0mswap_nodes\u001b[0m\u001b[1;33m(\u001b[0m\u001b[1;36m9\u001b[0m\u001b[1;33m,\u001b[0m \u001b[1;36m5\u001b[0m\u001b[1;33m)\u001b[0m\u001b[1;33m\u001b[0m\u001b[1;33m\u001b[0m\u001b[0m\n\u001b[0m\u001b[0;32m      7\u001b[0m \u001b[1;31m#print(ll)\u001b[0m\u001b[1;33m\u001b[0m\u001b[1;33m\u001b[0m\u001b[0m\n",
      "\u001b[1;32m~\\AppData\\Local\\Temp\\ipykernel_3220\\285672226.py\u001b[0m in \u001b[0;36mswap_nodes\u001b[1;34m(self, val1, val2)\u001b[0m\n\u001b[0;32m     84\u001b[0m         \u001b[0mtemp\u001b[0m \u001b[1;33m=\u001b[0m \u001b[0mnode1\u001b[0m\u001b[1;33m.\u001b[0m\u001b[0mget_next_node\u001b[0m\u001b[1;33m(\u001b[0m\u001b[1;33m)\u001b[0m\u001b[1;33m\u001b[0m\u001b[1;33m\u001b[0m\u001b[0m\n\u001b[0;32m     85\u001b[0m         \u001b[0mnode1\u001b[0m\u001b[1;33m.\u001b[0m\u001b[0mset_next_node\u001b[0m\u001b[1;33m(\u001b[0m\u001b[0mnode2\u001b[0m\u001b[1;33m.\u001b[0m\u001b[0mget_next_node\u001b[0m\u001b[1;33m(\u001b[0m\u001b[1;33m)\u001b[0m\u001b[1;33m)\u001b[0m\u001b[1;33m\u001b[0m\u001b[1;33m\u001b[0m\u001b[0m\n\u001b[1;32m---> 86\u001b[1;33m         \u001b[0mnode2\u001b[0m\u001b[1;33m.\u001b[0m\u001b[0mget_next_node\u001b[0m\u001b[1;33m(\u001b[0m\u001b[0mtemp\u001b[0m\u001b[1;33m)\u001b[0m\u001b[1;33m\u001b[0m\u001b[1;33m\u001b[0m\u001b[0m\n\u001b[0m\u001b[0;32m     87\u001b[0m \u001b[1;33m\u001b[0m\u001b[0m\n\u001b[0;32m     88\u001b[0m     \u001b[1;32mdef\u001b[0m \u001b[0m__repr__\u001b[0m\u001b[1;33m(\u001b[0m\u001b[0mself\u001b[0m\u001b[1;33m)\u001b[0m\u001b[1;33m:\u001b[0m\u001b[1;33m\u001b[0m\u001b[1;33m\u001b[0m\u001b[0m\n",
      "\u001b[1;31mTypeError\u001b[0m: get_next_node() takes 1 positional argument but 2 were given"
     ]
    }
   ],
   "source": [
    "# Test 3 (Chequeo de la funcion swap)\n",
    "ll = LinkedList()\n",
    "for i in range(10):\n",
    "  ll.insert_beginning(i)\n",
    "print(ll)\n",
    "ll.swap_nodes(9, 5)\n",
    "#print(ll)"
   ]
  }
 ],
 "metadata": {
  "kernelspec": {
   "display_name": "Python 3",
   "language": "python",
   "name": "python3"
  },
  "language_info": {
   "codemirror_mode": {
    "name": "ipython",
    "version": 3
   },
   "file_extension": ".py",
   "mimetype": "text/x-python",
   "name": "python",
   "nbconvert_exporter": "python",
   "pygments_lexer": "ipython3",
   "version": "3.9.13"
  },
  "orig_nbformat": 4
 },
 "nbformat": 4,
 "nbformat_minor": 2
}
