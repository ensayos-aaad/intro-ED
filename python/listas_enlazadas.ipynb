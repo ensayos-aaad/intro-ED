{
 "cells": [
  {
   "attachments": {},
   "cell_type": "markdown",
   "metadata": {},
   "source": [
    "# Listas enlazadas"
   ]
  },
  {
   "attachments": {},
   "cell_type": "markdown",
   "metadata": {},
   "source": [
    "## Nodo"
   ]
  },
  {
   "attachments": {},
   "cell_type": "markdown",
   "metadata": {},
   "source": [
    "Para saber sobre assert consulte el siguiente link: https://ellibrodepython.com/assert-python"
   ]
  },
  {
   "cell_type": "code",
   "execution_count": 12,
   "metadata": {},
   "outputs": [],
   "source": [
    "class Node:\n",
    "    def __init__(self, value, next_node=None):\n",
    "        self.value = value\n",
    "        self.next_node = next_node\n",
    "        \n",
    "    def get_value(self):\n",
    "        return self.value\n",
    "    \n",
    "    def get_next_node(self):\n",
    "        return self.next_node\n",
    "    \n",
    "    def set_next_node(self, next_node):\n",
    "        self.next_node = next_node\n",
    "\n",
    "    def __repr__(self):\n",
    "        return str(self.value)"
   ]
  },
  {
   "cell_type": "code",
   "execution_count": 14,
   "metadata": {},
   "outputs": [
    {
     "name": "stdout",
     "output_type": "stream",
     "text": [
      "10 --> 20 --> 30 "
     ]
    }
   ],
   "source": [
    "# Test 1\n",
    "n = Node(10, Node(20, Node(30)))\n",
    "\n",
    "k = n\n",
    "print(k, end=' ')\n",
    "\n",
    "while (k.get_next_node() is not None):\n",
    "    print(\"--> %s\" % k.get_next_node(), end=' ')\n",
    "    k = k.get_next_node()\n"
   ]
  },
  {
   "cell_type": "code",
   "execution_count": 17,
   "metadata": {},
   "outputs": [
    {
     "name": "stdout",
     "output_type": "stream",
     "text": [
      "10 --> 20 --> 30 "
     ]
    }
   ],
   "source": [
    "# Test 2\n",
    "n1 = Node(10)\n",
    "n2 = Node(20)\n",
    "n3 = Node(30)\n",
    "\n",
    "n1.set_next_node(n2)\n",
    "n2.set_next_node(n3)\n",
    "\n",
    "k = n1\n",
    "print(k, end=' ')\n",
    "while (k.get_next_node() is not None):\n",
    "    print(f\"--> {k.get_next_node()}\", end=' ')\n",
    "    k = k.get_next_node()\n"
   ]
  },
  {
   "attachments": {},
   "cell_type": "markdown",
   "metadata": {},
   "source": [
    "## Lista enlazada"
   ]
  },
  {
   "cell_type": "code",
   "execution_count": 64,
   "metadata": {},
   "outputs": [],
   "source": [
    "class LinkedList:\n",
    "    def __init__(self, value=None):\n",
    "        self.head_node = Node(value)\n",
    "    \n",
    "    def get_head_node(self):\n",
    "        return self.head_node\n",
    "    \n",
    "    def insert_beginning(self, new_value):\n",
    "        new_node = Node(new_value)\n",
    "        new_node.set_next_node(self.head_node)\n",
    "        self.head_node = new_node\n",
    "\n",
    "    def stringify_list(self):\n",
    "        string_list = \"\"\n",
    "        current_node = self.head_node        \n",
    "        while current_node:\n",
    "            if current_node.get_value() is not None:\n",
    "                if current_node == self.head_node:\n",
    "                    string_list += str(current_node.get_value()) + \" \"                \n",
    "                else: \n",
    "                    string_list += \"--> \" + str(current_node.get_value()) + \" \"                \n",
    "            current_node = current_node.get_next_node()\n",
    "        return string_list\n",
    "    \n",
    "\n",
    "    def remove_node(self, value_to_remove):\n",
    "        current_node = self.head_node  \n",
    "        next_node = current_node.get_next_node()     \n",
    "        while current_node:\n",
    "            if current_node.get_value() != None:                \n",
    "                if current_node.get_value() == value_to_remove:\n",
    "                    if current_node == self.head_node:\n",
    "                        print(current_node)\n",
    "                        # Head\n",
    "                        self.head_node.set_next_node(current_node.get_next_node())\n",
    "                        # current_node = None\n",
    "                    else:\n",
    "                        current_node.set_next_node(current_node.get_next_node())\n",
    "                    current_node = None\n",
    "                else:\n",
    "                    current_node = current_node.get_next_node()\n",
    "    \n",
    "    def __repr__(self):\n",
    "        return self.stringify_list()"
   ]
  },
  {
   "cell_type": "code",
   "execution_count": 66,
   "metadata": {},
   "outputs": [
    {
     "name": "stdout",
     "output_type": "stream",
     "text": [
      "4 \n",
      "4 \n",
      "9 --> 8 --> 6 --> 5 --> 4 \n",
      "H: 9\n",
      "-----\n",
      "9\n",
      "-----\n",
      "9 --> 6 --> 5 --> 4 \n"
     ]
    }
   ],
   "source": [
    "L1 = LinkedList(4)\n",
    "print(L1.stringify_list())\n",
    "print(L1)\n",
    "L1.insert_beginning(5)\n",
    "L1.insert_beginning(6)\n",
    "L1.insert_beginning(8)\n",
    "L1.insert_beginning(9)\n",
    "print(L1)\n",
    "print(\"H: \" + str(L1.get_head_node()))\n",
    "print(\"-----\")\n",
    "L1.remove_node(9)\n",
    "print(\"-----\")\n",
    "print(L1)"
   ]
  }
 ],
 "metadata": {
  "kernelspec": {
   "display_name": "Python 3",
   "language": "python",
   "name": "python3"
  },
  "language_info": {
   "codemirror_mode": {
    "name": "ipython",
    "version": 3
   },
   "file_extension": ".py",
   "mimetype": "text/x-python",
   "name": "python",
   "nbconvert_exporter": "python",
   "pygments_lexer": "ipython3",
   "version": "3.9.13"
  },
  "orig_nbformat": 4
 },
 "nbformat": 4,
 "nbformat_minor": 2
}
